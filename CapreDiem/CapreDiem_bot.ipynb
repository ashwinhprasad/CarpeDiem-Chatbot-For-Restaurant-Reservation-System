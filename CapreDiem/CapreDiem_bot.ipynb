{
  "nbformat": 4,
  "nbformat_minor": 0,
  "metadata": {
    "colab": {
      "name": "CapreDiem-bot.ipynb",
      "provenance": [],
      "collapsed_sections": []
    },
    "kernelspec": {
      "name": "python3",
      "display_name": "Python 3"
    }
  },
  "cells": [
    {
      "cell_type": "code",
      "metadata": {
        "id": "buuofqg45EGP",
        "colab": {
          "base_uri": "https://localhost:8080/"
        },
        "outputId": "86896ead-16ea-4e4c-cb8a-01fbe9ddd3f8"
      },
      "source": [
        "# importing the libraries\n",
        "import torch\n",
        "import numpy as np\n",
        "from torch import nn\n",
        "from torch.nn import functional as F\n",
        "import json\n",
        "import pandas as pd\n",
        "import matplotlib.pyplot as plt\n",
        "import seaborn as sns\n",
        "import math\n",
        "import pickle\n",
        "import nltk\n",
        "from nltk.corpus import stopwords\n",
        "from nltk.stem import PorterStemmer\n",
        "\n",
        "# download stopwords\n",
        "nltk.download(\"stopwords\")"
      ],
      "execution_count": null,
      "outputs": [
        {
          "output_type": "stream",
          "text": [
            "[nltk_data] Downloading package stopwords to /root/nltk_data...\n",
            "[nltk_data]   Unzipping corpora/stopwords.zip.\n"
          ],
          "name": "stdout"
        },
        {
          "output_type": "execute_result",
          "data": {
            "text/plain": [
              "True"
            ]
          },
          "metadata": {
            "tags": []
          },
          "execution_count": 1
        }
      ]
    },
    {
      "cell_type": "code",
      "metadata": {
        "id": "kiwAe6nc6Q0Z"
      },
      "source": [
        "#dataset\n",
        "with open(\"./content.json\") as file:\n",
        "    contents = json.load(file)"
      ],
      "execution_count": null,
      "outputs": []
    },
    {
      "cell_type": "code",
      "metadata": {
        "colab": {
          "base_uri": "https://localhost:8080/",
          "height": 466
        },
        "id": "INzuxjQz7MWZ",
        "outputId": "a0635bb1-f4dc-4484-bf0e-6ea1c17e3c2a"
      },
      "source": [
        "# data preprocessing\n",
        "tags = []\n",
        "inputs = []\n",
        "for intents in contents['intents']:\n",
        "    for inp in intents['input']:\n",
        "        tags.append(intents['tag'])\n",
        "        inputs.append(inp)\n",
        "\n",
        "# to dataframe\n",
        "data = pd.DataFrame({\n",
        "    \"Tag\":tags,\n",
        "    \"Input\":inputs\n",
        "})\n",
        "\n",
        "# plotting the count of labels\n",
        "plt.figure(figsize=(12,4))\n",
        "sns.countplot(x = data['Tag'])\n",
        "plt.show()\n",
        "\n",
        "\n",
        "#shuffling the dataframe\n",
        "data = data.sample(frac=1)\n",
        "data.reset_index(inplace=True)\n",
        "data.drop(['index'],inplace=True,axis=1)\n",
        "\n",
        "# label encoding the dependent feature\n",
        "from sklearn.preprocessing import LabelEncoder\n",
        "le = LabelEncoder()\n",
        "data['Tag'] = le.fit_transform(data['Tag'])\n",
        "\n",
        "# Encoding Storage\n",
        "encoding_dict = {\n",
        "    'words':[],\n",
        "    'encoding':[]\n",
        "}\n",
        "\n",
        "# Encoding Loop for words\n",
        "ps = PorterStemmer()\n",
        "for sentence in data['Input']:\n",
        "    for word in sentence.split(' '):\n",
        "        word = ps.stem(word.lower())\n",
        "        if word not in encoding_dict['words'] and word not in stopwords.words('english'):\n",
        "            encoding_dict['words'].append(word)\n",
        "            encoding_dict['encoding'].append(len(encoding_dict['words']))\n",
        "\n",
        "\n",
        "# Encoding the dataframe\n",
        "encoded_input = []\n",
        "\n",
        "for i in range(data['Input'].shape[0]):\n",
        "    row = []\n",
        "    for word in data['Input'][i].split(' '):\n",
        "        for j in range(len(encoding_dict['words'])):\n",
        "            if encoding_dict['words'][j] == ps.stem(word.lower()):\n",
        "                row.append(encoding_dict['encoding'][j])\n",
        "    encoded_input.append(row)\n",
        "data['Encoded'] = encoded_input\n",
        "\n",
        "\n",
        "#printing the dataframe\n",
        "data.head()"
      ],
      "execution_count": null,
      "outputs": [
        {
          "output_type": "display_data",
          "data": {
            "image/png": "[encoded data removed]",
            "text/plain": [
              "<Figure size 864x288 with 1 Axes>"
            ]
          },
          "metadata": {
            "tags": [],
            "needs_background": "light"
          }
        },
        {
          "output_type": "execute_result",
          "data": {
            "text/html": [
              "<div>\n",
              "<style scoped>\n",
              "    .dataframe tbody tr th:only-of-type {\n",
              "        vertical-align: middle;\n",
              "    }\n",
              "\n",
              "    .dataframe tbody tr th {\n",
              "        vertical-align: top;\n",
              "    }\n",
              "\n",
              "    .dataframe thead th {\n",
              "        text-align: right;\n",
              "    }\n",
              "</style>\n",
              "<table border=\"1\" class=\"dataframe\">\n",
              "  <thead>\n",
              "    <tr style=\"text-align: right;\">\n",
              "      <th></th>\n",
              "      <th>Tag</th>\n",
              "      <th>Input</th>\n",
              "      <th>Encoded</th>\n",
              "    </tr>\n",
              "  </thead>\n",
              "  <tbody>\n",
              "    <tr>\n",
              "      <th>0</th>\n",
              "      <td>2</td>\n",
              "      <td>can you tell us the location of the restaurants</td>\n",
              "      <td>[1, 2, 3, 4]</td>\n",
              "    </tr>\n",
              "    <tr>\n",
              "      <th>1</th>\n",
              "      <td>5</td>\n",
              "      <td>restaurant timings please</td>\n",
              "      <td>[4, 5, 6]</td>\n",
              "    </tr>\n",
              "    <tr>\n",
              "      <th>2</th>\n",
              "      <td>1</td>\n",
              "      <td>hi there</td>\n",
              "      <td>[7]</td>\n",
              "    </tr>\n",
              "    <tr>\n",
              "      <th>3</th>\n",
              "      <td>3</td>\n",
              "      <td>types of food available ?</td>\n",
              "      <td>[8, 9, 10, 11]</td>\n",
              "    </tr>\n",
              "    <tr>\n",
              "      <th>4</th>\n",
              "      <td>0</td>\n",
              "      <td>see you later</td>\n",
              "      <td>[12, 13]</td>\n",
              "    </tr>\n",
              "  </tbody>\n",
              "</table>\n",
              "</div>"
            ],
            "text/plain": [
              "   Tag                                            Input         Encoded\n",
              "0    2  can you tell us the location of the restaurants    [1, 2, 3, 4]\n",
              "1    5                        restaurant timings please       [4, 5, 6]\n",
              "2    1                                         hi there             [7]\n",
              "3    3                        types of food available ?  [8, 9, 10, 11]\n",
              "4    0                                    see you later        [12, 13]"
            ]
          },
          "metadata": {
            "tags": []
          },
          "execution_count": 3
        }
      ]
    },
    {
      "cell_type": "code",
      "metadata": {
        "id": "mAxKcl8sNtwD"
      },
      "source": [
        "# padding\n",
        "x_list = []\n",
        "for elem in data['Encoded']:\n",
        "    x_list.append(elem)\n",
        "\n",
        "length = 0\n",
        "for row in x_list:\n",
        "    if len(row) > length:\n",
        "        length=len(row)\n",
        "\n",
        "padded_x = []\n",
        "for row in x_list:\n",
        "    for i in range(length - len(row)):\n",
        "        row.insert(0,0)\n",
        "    padded_x.append(row)\n",
        "\n",
        "# converting to pytorch tensors\n",
        "X = np.array(padded_x)\n",
        "Y = np.array(data['Tag'])"
      ],
      "execution_count": null,
      "outputs": []
    },
    {
      "cell_type": "code",
      "metadata": {
        "colab": {
          "base_uri": "https://localhost:8080/"
        },
        "id": "yhJjnn0zi61y",
        "outputId": "f0ca3111-6eae-4f2b-fde9-60a673735468"
      },
      "source": [
        "print(f\"vocabulary size: {X.max()+1}, output targets = {Y.max() + 1}\")"
      ],
      "execution_count": null,
      "outputs": [
        {
          "output_type": "stream",
          "text": [
            "vocabulary size: 64, output targets = 6\n"
          ],
          "name": "stdout"
        }
      ]
    },
    {
      "cell_type": "code",
      "metadata": {
        "id": "C1R4hfE4UGMI"
      },
      "source": [
        "# creating the model\n",
        "\n",
        "# model config\n",
        "output_targets = Y.max()+1\n",
        "vocabulary_size = X.max()+1\n",
        "\n",
        "# neural network\n",
        "class chatbot(nn.Module):\n",
        "    def __init__(self,output_targets,vocabulary_size):\n",
        "        super(chatbot,self).__init__()\n",
        "        \n",
        "        # embedding layer\n",
        "        self.embedding1 = nn.Embedding(vocabulary_size,15)\n",
        "        \n",
        "        # lstm\n",
        "        self.lstm = nn.LSTM(input_size=15,hidden_size=10,batch_first=True,num_layers=1)\n",
        "\n",
        "        # fully connected\n",
        "        self.fc1 = nn.Linear(in_features=10,out_features=output_targets)\n",
        "\n",
        "    def forward(self,x):\n",
        "        x = self.embedding1(x)\n",
        "        x,_ = self.lstm(x)\n",
        "        x = torch.relu(x[:,-1])\n",
        "        x = self.fc1(x)\n",
        "        return x\n",
        "\n",
        "# model\n",
        "model = chatbot(output_targets=output_targets,vocabulary_size=vocabulary_size)\n",
        "\n",
        "# parameters\n",
        "learning_rate = 0.005\n",
        "criterion = nn.CrossEntropyLoss()\n",
        "optimizer = torch.optim.Adam(model.parameters(),lr=learning_rate)\n",
        "epochs = 600\n",
        "\n",
        "# converting to tensors\n",
        "X = torch.tensor(X,dtype=torch.int64)\n",
        "Y = torch.tensor(Y,dtype=torch.int64)"
      ],
      "execution_count": null,
      "outputs": []
    },
    {
      "cell_type": "code",
      "metadata": {
        "colab": {
          "base_uri": "https://localhost:8080/"
        },
        "id": "LikQ0aMhbOM5",
        "outputId": "b6706b18-3f3e-4872-e211-5d089cf23209"
      },
      "source": [
        "# forward loop\n",
        "loss = []\n",
        "acc = []\n",
        "for i in range(epochs):\n",
        "    \n",
        "    # make predictions\n",
        "    y_pred = model(X)\n",
        "\n",
        "    # calculate cost\n",
        "    cost = criterion(y_pred,Y)\n",
        "    loss.append(cost)\n",
        "\n",
        "    #calculate accuracy\n",
        "    accuracy = (y_pred.argmax(axis=1) == Y).sum()/(y_pred.shape[0])\n",
        "    acc.append(accuracy)\n",
        "\n",
        "    # backpropogation\n",
        "    optimizer.zero_grad()\n",
        "    cost.backward()\n",
        "    optimizer.step()\n",
        "\n",
        "    if i%50 == 0:\n",
        "        print(\"Epoch: {}\\tcost: {:.3f}\\tAccuracy:{:.3f}\\n\".format(i,cost,accuracy))"
      ],
      "execution_count": null,
      "outputs": [
        {
          "output_type": "stream",
          "text": [
            "Epoch: 0\tcost: 1.811\tAccuracy:0.128\n",
            "\n",
            "Epoch: 50\tcost: 0.950\tAccuracy:0.859\n",
            "\n",
            "Epoch: 100\tcost: 0.313\tAccuracy:1.000\n",
            "\n",
            "Epoch: 150\tcost: 0.143\tAccuracy:1.000\n",
            "\n",
            "Epoch: 200\tcost: 0.077\tAccuracy:1.000\n",
            "\n",
            "Epoch: 250\tcost: 0.050\tAccuracy:1.000\n",
            "\n",
            "Epoch: 300\tcost: 0.037\tAccuracy:1.000\n",
            "\n",
            "Epoch: 350\tcost: 0.028\tAccuracy:1.000\n",
            "\n",
            "Epoch: 400\tcost: 0.023\tAccuracy:1.000\n",
            "\n",
            "Epoch: 450\tcost: 0.019\tAccuracy:1.000\n",
            "\n",
            "Epoch: 500\tcost: 0.016\tAccuracy:1.000\n",
            "\n",
            "Epoch: 550\tcost: 0.014\tAccuracy:1.000\n",
            "\n"
          ],
          "name": "stdout"
        }
      ]
    },
    {
      "cell_type": "code",
      "metadata": {
        "colab": {
          "base_uri": "https://localhost:8080/",
          "height": 352
        },
        "id": "O6K1QdTOddSy",
        "outputId": "de8da451-ebd3-4232-efc5-b196b98d7a69"
      },
      "source": [
        "# loss over time \n",
        "fig = plt.figure(figsize=(12,4))\n",
        "\n",
        "# loss plot\n",
        "ax1 = fig.add_axes([0,0,0.4,1])\n",
        "ax1.plot(loss,color='red',label='loss')\n",
        "plt.title(\"Loss over time\")\n",
        "plt.legend()\n",
        "\n",
        "# accuracy plot\n",
        "ax2 = fig.add_axes([0.5,0,0.4,1])\n",
        "ax2.plot(acc,color='green',label='accuracy')\n",
        "plt.legend()\n",
        "plt.title(\"Accuracy over time\")\n",
        "\n",
        "# saving the model\n",
        "torch.save(model.state_dict(),\"chatbot.pt\")\n",
        "\n",
        "# saving the encoding dictionary\n",
        "pickle.dump(encoding_dict,open(\"encoding_dict.bin\",\"wb\"))"
      ],
      "execution_count": null,
      "outputs": [
        {
          "output_type": "display_data",
          "data": {
            "image/png": "[encoded data removed]",
            "text/plain": [
              "<Figure size 864x288 with 2 Axes>"
            ]
          },
          "metadata": {
            "tags": [],
            "needs_background": "light"
          }
        }
      ]
    }
  ]
}